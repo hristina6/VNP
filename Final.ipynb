{
  "nbformat": 4,
  "nbformat_minor": 0,
  "metadata": {
    "colab": {
      "provenance": [],
      "authorship_tag": "ABX9TyNHHMyRLQHLehy0XGh435u1",
      "include_colab_link": true
    },
    "kernelspec": {
      "name": "python3",
      "display_name": "Python 3"
    },
    "language_info": {
      "name": "python"
    }
  },
  "cells": [
    {
      "cell_type": "markdown",
      "metadata": {
        "id": "view-in-github",
        "colab_type": "text"
      },
      "source": [
        "<a href=\"https://colab.research.google.com/github/hristina6/VNP/blob/main/Final.ipynb\" target=\"_parent\"><img src=\"https://colab.research.google.com/assets/colab-badge.svg\" alt=\"Open In Colab\"/></a>"
      ]
    },
    {
      "cell_type": "markdown",
      "source": [
        "# **Change and Trade Patterns: Use UN Comtrade, OECD Statistics, and World Bank data to study how global trade patterns are shifting in response to climate change and what implications this has for economic sustainability**"
      ],
      "metadata": {
        "id": "8bRExrwbE54v"
      }
    },
    {
      "cell_type": "markdown",
      "source": [
        "Import на потребните библиотеки"
      ],
      "metadata": {
        "id": "1QVaqmc5FjtJ"
      }
    },
    {
      "cell_type": "code",
      "source": [
        "import pandas as pd\n",
        "from sklearn.model_selection import train_test_split\n",
        "from sklearn.linear_model import LinearRegression\n",
        "from sklearn.metrics import mean_squared_error\n",
        "from sklearn.preprocessing import MinMaxScaler\n",
        "import matplotlib.pyplot as plt\n",
        "import requests"
      ],
      "metadata": {
        "id": "AkIu5MOCFtvp"
      },
      "execution_count": null,
      "outputs": []
    },
    {
      "cell_type": "markdown",
      "source": [
        "Дефинирање на потребните индикатори"
      ],
      "metadata": {
        "id": "KIUBO1Q9FwWl"
      }
    },
    {
      "cell_type": "code",
      "source": [
        "climate_indicators = {\n",
        "    \"EN.ATM.CO2E.PC\": \"CO2 Emissions per Capita\",\n",
        "    \"EN.ATM.METH.AG.ZS\": \"Agricultural Methane Emissions (% of total)\",\n",
        "    \"AG.LND.PRCP.MM\": \"Annual Precipitation (mm)\"\n",
        "}\n",
        "trade_indicators = {\n",
        "    \"NE.TRD.GNFS.ZS\": \"Trade as % of GDP\",\n",
        "    \"NE.EXP.GNFS.CD\": \"Exports of Goods and Services (Current USD)\",\n",
        "    \"NE.IMP.GNFS.CD\": \"Imports of Goods and Services (Current USD)\"\n",
        "}\n",
        "countries = [\"USA\", \"CHN\", \"IND\"]"
      ],
      "metadata": {
        "id": "OFb0P0c2Gnd8"
      },
      "execution_count": null,
      "outputs": []
    },
    {
      "cell_type": "markdown",
      "source": [
        "Дефинирање на ранг за опфатените годините"
      ],
      "metadata": {
        "id": "SiQ19W2FHKV5"
      }
    },
    {
      "cell_type": "code",
      "source": [
        "years = [str(year) for year in range(2000, 2023)]"
      ],
      "metadata": {
        "id": "BrG0Y2z3HDrN"
      },
      "execution_count": null,
      "outputs": []
    },
    {
      "cell_type": "markdown",
      "source": [
        "Повлекување на податоците од World Bank"
      ],
      "metadata": {
        "id": "vlYZM92SHXPU"
      }
    },
    {
      "cell_type": "code",
      "source": [
        "def fetch_data_from_api(indicators, countries):\n",
        "    data = []\n",
        "    for indicator, indicator_name in indicators.items():\n",
        "        for country in countries:\n",
        "            url = f'http://api.worldbank.org/v2/country/{country}/indicator/{indicator}?date=2000:2023&format=json'\n",
        "            response = requests.get(url)\n",
        "            if response.status_code == 200:\n",
        "                json_data = response.json()[1]\n",
        "                for entry in json_data:\n",
        "                    data.append({\n",
        "                        \"Country Code\": entry[\"country\"][\"id\"],\n",
        "                        \"Country Name\": entry[\"country\"][\"value\"],\n",
        "                        \"Indicator Code\": entry[\"indicator\"][\"id\"],\n",
        "                        \"Indicator Name\": indicator_name,\n",
        "                        \"Year\": entry[\"date\"],\n",
        "                        \"Value\": entry[\"value\"]\n",
        "                    })\n",
        "            else:\n",
        "                print(f\"Failed to fetch data for {indicator} in {country}\")\n",
        "    return pd.DataFrame(data)"
      ],
      "metadata": {
        "id": "lytn9gVxHc--"
      },
      "execution_count": null,
      "outputs": []
    },
    {
      "cell_type": "code",
      "source": [
        "climate_data = fetch_data_from_api(climate_indicators, countries)\n",
        "trade_data = fetch_data_from_api(trade_indicators, countries)"
      ],
      "metadata": {
        "id": "m9PpDDZ4H9Ui"
      },
      "execution_count": null,
      "outputs": []
    },
    {
      "cell_type": "code",
      "source": [
        "def process_api_data(df, indicators):\n",
        "    df = df[df[\"Indicator Code\"].isin(indicators.keys())]\n",
        "    df[\"Indicator Name\"] = df[\"Indicator Code\"].map(indicators)\n",
        "    df = df.pivot_table(index=[\"Country Code\", \"Country Name\", \"Year\"], columns=\"Indicator Name\", values=\"Value\").reset_index()\n",
        "    return df"
      ],
      "metadata": {
        "id": "wK7n73NAH-64"
      },
      "execution_count": null,
      "outputs": []
    },
    {
      "cell_type": "code",
      "source": [
        "climate_df = process_api_data(climate_data, climate_indicators)\n",
        "trade_df = process_api_data(trade_data, trade_indicators)"
      ],
      "metadata": {
        "id": "c3mxjXLEIFzc"
      },
      "execution_count": null,
      "outputs": []
    },
    {
      "cell_type": "markdown",
      "source": [
        "Merge на двете табели според одредените колони"
      ],
      "metadata": {
        "id": "1HdTz1I8IJ7H"
      }
    },
    {
      "cell_type": "code",
      "source": [
        "merged_df = pd.merge(climate_df, trade_df, on=[\"Country Code\", \"Country Name\", \"Year\"])"
      ],
      "metadata": {
        "id": "t7A1rIuWIPq1"
      },
      "execution_count": null,
      "outputs": []
    },
    {
      "cell_type": "code",
      "source": [
        "merged_df"
      ],
      "metadata": {
        "colab": {
          "base_uri": "https://localhost:8080/",
          "height": 527
        },
        "id": "yCFgJds5IZcf",
        "outputId": "53f70c6a-176e-42c0-e27e-d8ecb1c4f7fa"
      },
      "execution_count": null,
      "outputs": [
        {
          "output_type": "execute_result",
          "data": {
            "text/plain": [
              "Indicator Name Country Code   Country Name  Year  \\\n",
              "0                        CN          China  2000   \n",
              "1                        CN          China  2001   \n",
              "2                        CN          China  2002   \n",
              "3                        CN          China  2003   \n",
              "4                        CN          China  2004   \n",
              "..                      ...            ...   ...   \n",
              "58                       US  United States  2016   \n",
              "59                       US  United States  2017   \n",
              "60                       US  United States  2018   \n",
              "61                       US  United States  2019   \n",
              "62                       US  United States  2020   \n",
              "\n",
              "Indicator Name  Agricultural Methane Emissions (% of total)  \\\n",
              "0                                                 44.947626   \n",
              "1                                                 43.989711   \n",
              "2                                                 43.098464   \n",
              "3                                                 42.219117   \n",
              "4                                                 42.587682   \n",
              "..                                                      ...   \n",
              "58                                                      NaN   \n",
              "59                                                      NaN   \n",
              "60                                                      NaN   \n",
              "61                                                      NaN   \n",
              "62                                                      NaN   \n",
              "\n",
              "Indicator Name  Annual Precipitation (mm)  CO2 Emissions per Capita  \\\n",
              "0                                   645.0                  2.650409   \n",
              "1                                   645.0                  2.774762   \n",
              "2                                   645.0                  2.964821   \n",
              "3                                   645.0                  3.434036   \n",
              "4                                   645.0                  3.945155   \n",
              "..                                    ...                       ...   \n",
              "58                                  715.0                 15.149883   \n",
              "59                                  715.0                 14.823245   \n",
              "60                                  715.0                 15.222518   \n",
              "61                                  715.0                 14.673381   \n",
              "62                                  715.0                 13.032222   \n",
              "\n",
              "Indicator Name  Exports of Goods and Services (Current USD)  \\\n",
              "0                                              2.530921e+11   \n",
              "1                                              2.720600e+11   \n",
              "2                                              3.330023e+11   \n",
              "3                                              4.479583e+11   \n",
              "4                                              6.073569e+11   \n",
              "..                                                      ...   \n",
              "58                                             2.235558e+12   \n",
              "59                                             2.388260e+12   \n",
              "60                                             2.538089e+12   \n",
              "61                                             2.538450e+12   \n",
              "62                                             2.150112e+12   \n",
              "\n",
              "Indicator Name  Imports of Goods and Services (Current USD)  Trade as % of GDP  \n",
              "0                                              2.243062e+11          39.411034  \n",
              "1                                              2.439738e+11          38.527210  \n",
              "2                                              2.956196e+11          42.747182  \n",
              "3                                              4.121371e+11          51.804220  \n",
              "4                                              5.561826e+11          59.505531  \n",
              "..                                                      ...                ...  \n",
              "58                                             2.738830e+12          26.452598  \n",
              "59                                             2.931589e+12          27.125338  \n",
              "60                                             3.131166e+12          27.445359  \n",
              "61                                             3.116954e+12          26.278055  \n",
              "62                                             2.776503e+12          23.104753  \n",
              "\n",
              "[63 rows x 9 columns]"
            ],
            "text/html": [
              "\n",
              "  <div id=\"df-9ca06b07-6c13-4018-a207-09673f96cf2f\" class=\"colab-df-container\">\n",
              "    <div>\n",
              "<style scoped>\n",
              "    .dataframe tbody tr th:only-of-type {\n",
              "        vertical-align: middle;\n",
              "    }\n",
              "\n",
              "    .dataframe tbody tr th {\n",
              "        vertical-align: top;\n",
              "    }\n",
              "\n",
              "    .dataframe thead th {\n",
              "        text-align: right;\n",
              "    }\n",
              "</style>\n",
              "<table border=\"1\" class=\"dataframe\">\n",
              "  <thead>\n",
              "    <tr style=\"text-align: right;\">\n",
              "      <th>Indicator Name</th>\n",
              "      <th>Country Code</th>\n",
              "      <th>Country Name</th>\n",
              "      <th>Year</th>\n",
              "      <th>Agricultural Methane Emissions (% of total)</th>\n",
              "      <th>Annual Precipitation (mm)</th>\n",
              "      <th>CO2 Emissions per Capita</th>\n",
              "      <th>Exports of Goods and Services (Current USD)</th>\n",
              "      <th>Imports of Goods and Services (Current USD)</th>\n",
              "      <th>Trade as % of GDP</th>\n",
              "    </tr>\n",
              "  </thead>\n",
              "  <tbody>\n",
              "    <tr>\n",
              "      <th>0</th>\n",
              "      <td>CN</td>\n",
              "      <td>China</td>\n",
              "      <td>2000</td>\n",
              "      <td>44.947626</td>\n",
              "      <td>645.0</td>\n",
              "      <td>2.650409</td>\n",
              "      <td>2.530921e+11</td>\n",
              "      <td>2.243062e+11</td>\n",
              "      <td>39.411034</td>\n",
              "    </tr>\n",
              "    <tr>\n",
              "      <th>1</th>\n",
              "      <td>CN</td>\n",
              "      <td>China</td>\n",
              "      <td>2001</td>\n",
              "      <td>43.989711</td>\n",
              "      <td>645.0</td>\n",
              "      <td>2.774762</td>\n",
              "      <td>2.720600e+11</td>\n",
              "      <td>2.439738e+11</td>\n",
              "      <td>38.527210</td>\n",
              "    </tr>\n",
              "    <tr>\n",
              "      <th>2</th>\n",
              "      <td>CN</td>\n",
              "      <td>China</td>\n",
              "      <td>2002</td>\n",
              "      <td>43.098464</td>\n",
              "      <td>645.0</td>\n",
              "      <td>2.964821</td>\n",
              "      <td>3.330023e+11</td>\n",
              "      <td>2.956196e+11</td>\n",
              "      <td>42.747182</td>\n",
              "    </tr>\n",
              "    <tr>\n",
              "      <th>3</th>\n",
              "      <td>CN</td>\n",
              "      <td>China</td>\n",
              "      <td>2003</td>\n",
              "      <td>42.219117</td>\n",
              "      <td>645.0</td>\n",
              "      <td>3.434036</td>\n",
              "      <td>4.479583e+11</td>\n",
              "      <td>4.121371e+11</td>\n",
              "      <td>51.804220</td>\n",
              "    </tr>\n",
              "    <tr>\n",
              "      <th>4</th>\n",
              "      <td>CN</td>\n",
              "      <td>China</td>\n",
              "      <td>2004</td>\n",
              "      <td>42.587682</td>\n",
              "      <td>645.0</td>\n",
              "      <td>3.945155</td>\n",
              "      <td>6.073569e+11</td>\n",
              "      <td>5.561826e+11</td>\n",
              "      <td>59.505531</td>\n",
              "    </tr>\n",
              "    <tr>\n",
              "      <th>...</th>\n",
              "      <td>...</td>\n",
              "      <td>...</td>\n",
              "      <td>...</td>\n",
              "      <td>...</td>\n",
              "      <td>...</td>\n",
              "      <td>...</td>\n",
              "      <td>...</td>\n",
              "      <td>...</td>\n",
              "      <td>...</td>\n",
              "    </tr>\n",
              "    <tr>\n",
              "      <th>58</th>\n",
              "      <td>US</td>\n",
              "      <td>United States</td>\n",
              "      <td>2016</td>\n",
              "      <td>NaN</td>\n",
              "      <td>715.0</td>\n",
              "      <td>15.149883</td>\n",
              "      <td>2.235558e+12</td>\n",
              "      <td>2.738830e+12</td>\n",
              "      <td>26.452598</td>\n",
              "    </tr>\n",
              "    <tr>\n",
              "      <th>59</th>\n",
              "      <td>US</td>\n",
              "      <td>United States</td>\n",
              "      <td>2017</td>\n",
              "      <td>NaN</td>\n",
              "      <td>715.0</td>\n",
              "      <td>14.823245</td>\n",
              "      <td>2.388260e+12</td>\n",
              "      <td>2.931589e+12</td>\n",
              "      <td>27.125338</td>\n",
              "    </tr>\n",
              "    <tr>\n",
              "      <th>60</th>\n",
              "      <td>US</td>\n",
              "      <td>United States</td>\n",
              "      <td>2018</td>\n",
              "      <td>NaN</td>\n",
              "      <td>715.0</td>\n",
              "      <td>15.222518</td>\n",
              "      <td>2.538089e+12</td>\n",
              "      <td>3.131166e+12</td>\n",
              "      <td>27.445359</td>\n",
              "    </tr>\n",
              "    <tr>\n",
              "      <th>61</th>\n",
              "      <td>US</td>\n",
              "      <td>United States</td>\n",
              "      <td>2019</td>\n",
              "      <td>NaN</td>\n",
              "      <td>715.0</td>\n",
              "      <td>14.673381</td>\n",
              "      <td>2.538450e+12</td>\n",
              "      <td>3.116954e+12</td>\n",
              "      <td>26.278055</td>\n",
              "    </tr>\n",
              "    <tr>\n",
              "      <th>62</th>\n",
              "      <td>US</td>\n",
              "      <td>United States</td>\n",
              "      <td>2020</td>\n",
              "      <td>NaN</td>\n",
              "      <td>715.0</td>\n",
              "      <td>13.032222</td>\n",
              "      <td>2.150112e+12</td>\n",
              "      <td>2.776503e+12</td>\n",
              "      <td>23.104753</td>\n",
              "    </tr>\n",
              "  </tbody>\n",
              "</table>\n",
              "<p>63 rows × 9 columns</p>\n",
              "</div>\n",
              "    <div class=\"colab-df-buttons\">\n",
              "\n",
              "  <div class=\"colab-df-container\">\n",
              "    <button class=\"colab-df-convert\" onclick=\"convertToInteractive('df-9ca06b07-6c13-4018-a207-09673f96cf2f')\"\n",
              "            title=\"Convert this dataframe to an interactive table.\"\n",
              "            style=\"display:none;\">\n",
              "\n",
              "  <svg xmlns=\"http://www.w3.org/2000/svg\" height=\"24px\" viewBox=\"0 -960 960 960\">\n",
              "    <path d=\"M120-120v-720h720v720H120Zm60-500h600v-160H180v160Zm220 220h160v-160H400v160Zm0 220h160v-160H400v160ZM180-400h160v-160H180v160Zm440 0h160v-160H620v160ZM180-180h160v-160H180v160Zm440 0h160v-160H620v160Z\"/>\n",
              "  </svg>\n",
              "    </button>\n",
              "\n",
              "  <style>\n",
              "    .colab-df-container {\n",
              "      display:flex;\n",
              "      gap: 12px;\n",
              "    }\n",
              "\n",
              "    .colab-df-convert {\n",
              "      background-color: #E8F0FE;\n",
              "      border: none;\n",
              "      border-radius: 50%;\n",
              "      cursor: pointer;\n",
              "      display: none;\n",
              "      fill: #1967D2;\n",
              "      height: 32px;\n",
              "      padding: 0 0 0 0;\n",
              "      width: 32px;\n",
              "    }\n",
              "\n",
              "    .colab-df-convert:hover {\n",
              "      background-color: #E2EBFA;\n",
              "      box-shadow: 0px 1px 2px rgba(60, 64, 67, 0.3), 0px 1px 3px 1px rgba(60, 64, 67, 0.15);\n",
              "      fill: #174EA6;\n",
              "    }\n",
              "\n",
              "    .colab-df-buttons div {\n",
              "      margin-bottom: 4px;\n",
              "    }\n",
              "\n",
              "    [theme=dark] .colab-df-convert {\n",
              "      background-color: #3B4455;\n",
              "      fill: #D2E3FC;\n",
              "    }\n",
              "\n",
              "    [theme=dark] .colab-df-convert:hover {\n",
              "      background-color: #434B5C;\n",
              "      box-shadow: 0px 1px 3px 1px rgba(0, 0, 0, 0.15);\n",
              "      filter: drop-shadow(0px 1px 2px rgba(0, 0, 0, 0.3));\n",
              "      fill: #FFFFFF;\n",
              "    }\n",
              "  </style>\n",
              "\n",
              "    <script>\n",
              "      const buttonEl =\n",
              "        document.querySelector('#df-9ca06b07-6c13-4018-a207-09673f96cf2f button.colab-df-convert');\n",
              "      buttonEl.style.display =\n",
              "        google.colab.kernel.accessAllowed ? 'block' : 'none';\n",
              "\n",
              "      async function convertToInteractive(key) {\n",
              "        const element = document.querySelector('#df-9ca06b07-6c13-4018-a207-09673f96cf2f');\n",
              "        const dataTable =\n",
              "          await google.colab.kernel.invokeFunction('convertToInteractive',\n",
              "                                                    [key], {});\n",
              "        if (!dataTable) return;\n",
              "\n",
              "        const docLinkHtml = 'Like what you see? Visit the ' +\n",
              "          '<a target=\"_blank\" href=https://colab.research.google.com/notebooks/data_table.ipynb>data table notebook</a>'\n",
              "          + ' to learn more about interactive tables.';\n",
              "        element.innerHTML = '';\n",
              "        dataTable['output_type'] = 'display_data';\n",
              "        await google.colab.output.renderOutput(dataTable, element);\n",
              "        const docLink = document.createElement('div');\n",
              "        docLink.innerHTML = docLinkHtml;\n",
              "        element.appendChild(docLink);\n",
              "      }\n",
              "    </script>\n",
              "  </div>\n",
              "\n",
              "\n",
              "<div id=\"df-5aa331bb-2793-4ec3-a24b-f82ba698e686\">\n",
              "  <button class=\"colab-df-quickchart\" onclick=\"quickchart('df-5aa331bb-2793-4ec3-a24b-f82ba698e686')\"\n",
              "            title=\"Suggest charts\"\n",
              "            style=\"display:none;\">\n",
              "\n",
              "<svg xmlns=\"http://www.w3.org/2000/svg\" height=\"24px\"viewBox=\"0 0 24 24\"\n",
              "     width=\"24px\">\n",
              "    <g>\n",
              "        <path d=\"M19 3H5c-1.1 0-2 .9-2 2v14c0 1.1.9 2 2 2h14c1.1 0 2-.9 2-2V5c0-1.1-.9-2-2-2zM9 17H7v-7h2v7zm4 0h-2V7h2v10zm4 0h-2v-4h2v4z\"/>\n",
              "    </g>\n",
              "</svg>\n",
              "  </button>\n",
              "\n",
              "<style>\n",
              "  .colab-df-quickchart {\n",
              "      --bg-color: #E8F0FE;\n",
              "      --fill-color: #1967D2;\n",
              "      --hover-bg-color: #E2EBFA;\n",
              "      --hover-fill-color: #174EA6;\n",
              "      --disabled-fill-color: #AAA;\n",
              "      --disabled-bg-color: #DDD;\n",
              "  }\n",
              "\n",
              "  [theme=dark] .colab-df-quickchart {\n",
              "      --bg-color: #3B4455;\n",
              "      --fill-color: #D2E3FC;\n",
              "      --hover-bg-color: #434B5C;\n",
              "      --hover-fill-color: #FFFFFF;\n",
              "      --disabled-bg-color: #3B4455;\n",
              "      --disabled-fill-color: #666;\n",
              "  }\n",
              "\n",
              "  .colab-df-quickchart {\n",
              "    background-color: var(--bg-color);\n",
              "    border: none;\n",
              "    border-radius: 50%;\n",
              "    cursor: pointer;\n",
              "    display: none;\n",
              "    fill: var(--fill-color);\n",
              "    height: 32px;\n",
              "    padding: 0;\n",
              "    width: 32px;\n",
              "  }\n",
              "\n",
              "  .colab-df-quickchart:hover {\n",
              "    background-color: var(--hover-bg-color);\n",
              "    box-shadow: 0 1px 2px rgba(60, 64, 67, 0.3), 0 1px 3px 1px rgba(60, 64, 67, 0.15);\n",
              "    fill: var(--button-hover-fill-color);\n",
              "  }\n",
              "\n",
              "  .colab-df-quickchart-complete:disabled,\n",
              "  .colab-df-quickchart-complete:disabled:hover {\n",
              "    background-color: var(--disabled-bg-color);\n",
              "    fill: var(--disabled-fill-color);\n",
              "    box-shadow: none;\n",
              "  }\n",
              "\n",
              "  .colab-df-spinner {\n",
              "    border: 2px solid var(--fill-color);\n",
              "    border-color: transparent;\n",
              "    border-bottom-color: var(--fill-color);\n",
              "    animation:\n",
              "      spin 1s steps(1) infinite;\n",
              "  }\n",
              "\n",
              "  @keyframes spin {\n",
              "    0% {\n",
              "      border-color: transparent;\n",
              "      border-bottom-color: var(--fill-color);\n",
              "      border-left-color: var(--fill-color);\n",
              "    }\n",
              "    20% {\n",
              "      border-color: transparent;\n",
              "      border-left-color: var(--fill-color);\n",
              "      border-top-color: var(--fill-color);\n",
              "    }\n",
              "    30% {\n",
              "      border-color: transparent;\n",
              "      border-left-color: var(--fill-color);\n",
              "      border-top-color: var(--fill-color);\n",
              "      border-right-color: var(--fill-color);\n",
              "    }\n",
              "    40% {\n",
              "      border-color: transparent;\n",
              "      border-right-color: var(--fill-color);\n",
              "      border-top-color: var(--fill-color);\n",
              "    }\n",
              "    60% {\n",
              "      border-color: transparent;\n",
              "      border-right-color: var(--fill-color);\n",
              "    }\n",
              "    80% {\n",
              "      border-color: transparent;\n",
              "      border-right-color: var(--fill-color);\n",
              "      border-bottom-color: var(--fill-color);\n",
              "    }\n",
              "    90% {\n",
              "      border-color: transparent;\n",
              "      border-bottom-color: var(--fill-color);\n",
              "    }\n",
              "  }\n",
              "</style>\n",
              "\n",
              "  <script>\n",
              "    async function quickchart(key) {\n",
              "      const quickchartButtonEl =\n",
              "        document.querySelector('#' + key + ' button');\n",
              "      quickchartButtonEl.disabled = true;  // To prevent multiple clicks.\n",
              "      quickchartButtonEl.classList.add('colab-df-spinner');\n",
              "      try {\n",
              "        const charts = await google.colab.kernel.invokeFunction(\n",
              "            'suggestCharts', [key], {});\n",
              "      } catch (error) {\n",
              "        console.error('Error during call to suggestCharts:', error);\n",
              "      }\n",
              "      quickchartButtonEl.classList.remove('colab-df-spinner');\n",
              "      quickchartButtonEl.classList.add('colab-df-quickchart-complete');\n",
              "    }\n",
              "    (() => {\n",
              "      let quickchartButtonEl =\n",
              "        document.querySelector('#df-5aa331bb-2793-4ec3-a24b-f82ba698e686 button');\n",
              "      quickchartButtonEl.style.display =\n",
              "        google.colab.kernel.accessAllowed ? 'block' : 'none';\n",
              "    })();\n",
              "  </script>\n",
              "</div>\n",
              "    </div>\n",
              "  </div>\n"
            ],
            "application/vnd.google.colaboratory.intrinsic+json": {
              "type": "dataframe",
              "variable_name": "merged_df",
              "summary": "{\n  \"name\": \"merged_df\",\n  \"rows\": 63,\n  \"fields\": [\n    {\n      \"column\": \"Country Code\",\n      \"properties\": {\n        \"dtype\": \"category\",\n        \"num_unique_values\": 3,\n        \"samples\": [\n          \"CN\",\n          \"IN\",\n          \"US\"\n        ],\n        \"semantic_type\": \"\",\n        \"description\": \"\"\n      }\n    },\n    {\n      \"column\": \"Country Name\",\n      \"properties\": {\n        \"dtype\": \"category\",\n        \"num_unique_values\": 3,\n        \"samples\": [\n          \"China\",\n          \"India\",\n          \"United States\"\n        ],\n        \"semantic_type\": \"\",\n        \"description\": \"\"\n      }\n    },\n    {\n      \"column\": \"Year\",\n      \"properties\": {\n        \"dtype\": \"object\",\n        \"num_unique_values\": 21,\n        \"samples\": [\n          \"2000\",\n          \"2017\",\n          \"2015\"\n        ],\n        \"semantic_type\": \"\",\n        \"description\": \"\"\n      }\n    },\n    {\n      \"column\": \"Agricultural Methane Emissions (% of total)\",\n      \"properties\": {\n        \"dtype\": \"number\",\n        \"std\": 19.957497307723795,\n        \"min\": 29.4422751049878,\n        \"max\": 77.4891774891775,\n        \"num_unique_values\": 27,\n        \"samples\": [\n          35.9919061607675,\n          75.6842313526347,\n          77.4891774891775\n        ],\n        \"semantic_type\": \"\",\n        \"description\": \"\"\n      }\n    },\n    {\n      \"column\": \"Annual Precipitation (mm)\",\n      \"properties\": {\n        \"dtype\": \"number\",\n        \"std\": 193.65649668853715,\n        \"min\": 645.0,\n        \"max\": 1083.0,\n        \"num_unique_values\": 3,\n        \"samples\": [\n          645.0,\n          1083.0,\n          715.0\n        ],\n        \"semantic_type\": \"\",\n        \"description\": \"\"\n      }\n    },\n    {\n      \"column\": \"CO2 Emissions per Capita\",\n      \"properties\": {\n        \"dtype\": \"number\",\n        \"std\": 6.951797616741806,\n        \"min\": 0.883746998008724,\n        \"max\": 20.4697967370289,\n        \"num_unique_values\": 63,\n        \"samples\": [\n          14.6733807134556,\n          15.5600154435853,\n          2.65040910152893\n        ],\n        \"semantic_type\": \"\",\n        \"description\": \"\"\n      }\n    },\n    {\n      \"column\": \"Exports of Goods and Services (Current USD)\",\n      \"properties\": {\n        \"dtype\": \"number\",\n        \"std\": 893703059617.8721,\n        \"min\": 60878472821.2004,\n        \"max\": 2729884575161.69,\n        \"num_unique_values\": 63,\n        \"samples\": [\n          2538450000000.0,\n          2270622000000.0,\n          253092089737.0\n        ],\n        \"semantic_type\": \"\",\n        \"description\": \"\"\n      }\n    },\n    {\n      \"column\": \"Imports of Goods and Services (Current USD)\",\n      \"properties\": {\n        \"dtype\": \"number\",\n        \"std\": 1009235767134.0144,\n        \"min\": 65124245375.0531,\n        \"max\": 3131166000000.0,\n        \"num_unique_values\": 63,\n        \"samples\": [\n          3116954000000.0,\n          2794942000000.0,\n          224306238158.48\n        ],\n        \"semantic_type\": \"\",\n        \"description\": \"\"\n      }\n    },\n    {\n      \"column\": \"Trade as % of GDP\",\n      \"properties\": {\n        \"dtype\": \"number\",\n        \"std\": 11.62742388255436,\n        \"min\": 22.2863842136065,\n        \"max\": 64.4791912001398,\n        \"num_unique_values\": 63,\n        \"samples\": [\n          26.2780549309187,\n          27.6882139340768,\n          39.4110338948079\n        ],\n        \"semantic_type\": \"\",\n        \"description\": \"\"\n      }\n    }\n  ]\n}"
            }
          },
          "metadata": {},
          "execution_count": 44
        }
      ]
    },
    {
      "cell_type": "markdown",
      "source": [
        "Претставување на поврзаноста на податоците"
      ],
      "metadata": {
        "id": "BR_q-HAJNHEA"
      }
    },
    {
      "cell_type": "code",
      "source": [
        "import seaborn as sns\n",
        "corr_matrix = merged_df[['CO2 Emissions per Capita', 'Agricultural Methane Emissions (% of total)',\n",
        "                         'Annual Precipitation (mm)', 'Trade as % of GDP']].corr()\n",
        "\n",
        "plt.figure(figsize=(8, 6))\n",
        "sns.heatmap(corr_matrix, annot=True, cmap='coolwarm', fmt='.2f')\n",
        "plt.title('Correlation Matrix')\n",
        "plt.show()"
      ],
      "metadata": {
        "colab": {
          "base_uri": "https://localhost:8080/",
          "height": 851
        },
        "id": "A-WqC02xNKTk",
        "outputId": "522e0013-2b9d-45ab-f108-9bbf71e19ebe"
      },
      "execution_count": null,
      "outputs": [
        {
          "output_type": "display_data",
          "data": {
            "text/plain": [
              "<Figure size 800x600 with 2 Axes>"
            ],
            "image/png": "[encoded data removed]"
          },
          "metadata": {}
        }
      ]
    },
    {
      "cell_type": "markdown",
      "source": [
        "Проверка на missing values"
      ],
      "metadata": {
        "id": "AIOu6hyUKRIZ"
      }
    },
    {
      "cell_type": "code",
      "source": [
        "merged_df.isnull().sum()"
      ],
      "metadata": {
        "colab": {
          "base_uri": "https://localhost:8080/"
        },
        "id": "he2dOoZwJDSs",
        "outputId": "9f6c83ce-f3cb-4940-90e7-d0ec0f3251e0"
      },
      "execution_count": null,
      "outputs": [
        {
          "output_type": "execute_result",
          "data": {
            "text/plain": [
              "Indicator Name\n",
              "Country Code                                    0\n",
              "Country Name                                    0\n",
              "Year                                            0\n",
              "Agricultural Methane Emissions (% of total)    36\n",
              "Annual Precipitation (mm)                       0\n",
              "CO2 Emissions per Capita                        0\n",
              "Exports of Goods and Services (Current USD)     0\n",
              "Imports of Goods and Services (Current USD)     0\n",
              "Trade as % of GDP                               0\n",
              "dtype: int64"
            ]
          },
          "metadata": {},
          "execution_count": 45
        }
      ]
    },
    {
      "cell_type": "markdown",
      "source": [],
      "metadata": {
        "id": "CvRi-vN2KPF7"
      }
    },
    {
      "cell_type": "code",
      "source": [
        "merged_df['Agricultural Methane Emissions (% of total)'].fillna(merged_df['Agricultural Methane Emissions (% of total)'].mean(), inplace=True)"
      ],
      "metadata": {
        "id": "R-SgGsmyJ9LN"
      },
      "execution_count": null,
      "outputs": []
    },
    {
      "cell_type": "code",
      "source": [
        "merged_df.isnull().sum()"
      ],
      "metadata": {
        "colab": {
          "base_uri": "https://localhost:8080/"
        },
        "id": "gSgBmTB2KV-y",
        "outputId": "98fccac5-3010-473d-81cb-aafecb88d68d"
      },
      "execution_count": null,
      "outputs": [
        {
          "output_type": "execute_result",
          "data": {
            "text/plain": [
              "Indicator Name\n",
              "Country Code                                   0\n",
              "Country Name                                   0\n",
              "Year                                           0\n",
              "Agricultural Methane Emissions (% of total)    0\n",
              "Annual Precipitation (mm)                      0\n",
              "CO2 Emissions per Capita                       0\n",
              "Exports of Goods and Services (Current USD)    0\n",
              "Imports of Goods and Services (Current USD)    0\n",
              "Trade as % of GDP                              0\n",
              "dtype: int64"
            ]
          },
          "metadata": {},
          "execution_count": 47
        }
      ]
    },
    {
      "cell_type": "markdown",
      "source": [
        "Поделба на податоците"
      ],
      "metadata": {
        "id": "oCxoDuN2Kj0U"
      }
    },
    {
      "cell_type": "code",
      "source": [
        "X = merged_df[list(climate_indicators.values())]\n",
        "y = merged_df[list(trade_indicators.values())]"
      ],
      "metadata": {
        "id": "1QAJOWK3Kexx"
      },
      "execution_count": null,
      "outputs": []
    },
    {
      "cell_type": "markdown",
      "source": [
        "Скалирање на податоците"
      ],
      "metadata": {
        "id": "BWs4493GMC2X"
      }
    },
    {
      "cell_type": "code",
      "source": [
        "scaler = MinMaxScaler()\n",
        "X_scaled = scaler.fit_transform(X)"
      ],
      "metadata": {
        "id": "984VKWuhMBBA"
      },
      "execution_count": null,
      "outputs": []
    },
    {
      "cell_type": "markdown",
      "source": [
        "Split на дата"
      ],
      "metadata": {
        "id": "kO6UmOahMJca"
      }
    },
    {
      "cell_type": "code",
      "source": [
        "X_train, X_test, y_train, y_test = train_test_split(X_scaled, y, test_size=0.2, random_state=42)"
      ],
      "metadata": {
        "id": "oqYAQYSdMHJ5"
      },
      "execution_count": null,
      "outputs": []
    },
    {
      "cell_type": "markdown",
      "source": [
        "Train и користење на линеар регресор"
      ],
      "metadata": {
        "id": "mplk98KbMPJu"
      }
    },
    {
      "cell_type": "code",
      "source": [
        "model = LinearRegression()\n",
        "model.fit(X_train, y_train)"
      ],
      "metadata": {
        "colab": {
          "base_uri": "https://localhost:8080/",
          "height": 74
        },
        "id": "0vDWC-s1MNgY",
        "outputId": "b823c042-6d99-40e3-f688-33c46144d7cc"
      },
      "execution_count": null,
      "outputs": [
        {
          "output_type": "execute_result",
          "data": {
            "text/plain": [
              "LinearRegression()"
            ],
            "text/html": [
              "<style>#sk-container-id-1 {color: black;background-color: white;}#sk-container-id-1 pre{padding: 0;}#sk-container-id-1 div.sk-toggleable {background-color: white;}#sk-container-id-1 label.sk-toggleable__label {cursor: pointer;display: block;width: 100%;margin-bottom: 0;padding: 0.3em;box-sizing: border-box;text-align: center;}#sk-container-id-1 label.sk-toggleable__label-arrow:before {content: \"▸\";float: left;margin-right: 0.25em;color: #696969;}#sk-container-id-1 label.sk-toggleable__label-arrow:hover:before {color: black;}#sk-container-id-1 div.sk-estimator:hover label.sk-toggleable__label-arrow:before {color: black;}#sk-container-id-1 div.sk-toggleable__content {max-height: 0;max-width: 0;overflow: hidden;text-align: left;background-color: #f0f8ff;}#sk-container-id-1 div.sk-toggleable__content pre {margin: 0.2em;color: black;border-radius: 0.25em;background-color: #f0f8ff;}#sk-container-id-1 input.sk-toggleable__control:checked~div.sk-toggleable__content {max-height: 200px;max-width: 100%;overflow: auto;}#sk-container-id-1 input.sk-toggleable__control:checked~label.sk-toggleable__label-arrow:before {content: \"▾\";}#sk-container-id-1 div.sk-estimator input.sk-toggleable__control:checked~label.sk-toggleable__label {background-color: #d4ebff;}#sk-container-id-1 div.sk-label input.sk-toggleable__control:checked~label.sk-toggleable__label {background-color: #d4ebff;}#sk-container-id-1 input.sk-hidden--visually {border: 0;clip: rect(1px 1px 1px 1px);clip: rect(1px, 1px, 1px, 1px);height: 1px;margin: -1px;overflow: hidden;padding: 0;position: absolute;width: 1px;}#sk-container-id-1 div.sk-estimator {font-family: monospace;background-color: #f0f8ff;border: 1px dotted black;border-radius: 0.25em;box-sizing: border-box;margin-bottom: 0.5em;}#sk-container-id-1 div.sk-estimator:hover {background-color: #d4ebff;}#sk-container-id-1 div.sk-parallel-item::after {content: \"\";width: 100%;border-bottom: 1px solid gray;flex-grow: 1;}#sk-container-id-1 div.sk-label:hover label.sk-toggleable__label {background-color: #d4ebff;}#sk-container-id-1 div.sk-serial::before {content: \"\";position: absolute;border-left: 1px solid gray;box-sizing: border-box;top: 0;bottom: 0;left: 50%;z-index: 0;}#sk-container-id-1 div.sk-serial {display: flex;flex-direction: column;align-items: center;background-color: white;padding-right: 0.2em;padding-left: 0.2em;position: relative;}#sk-container-id-1 div.sk-item {position: relative;z-index: 1;}#sk-container-id-1 div.sk-parallel {display: flex;align-items: stretch;justify-content: center;background-color: white;position: relative;}#sk-container-id-1 div.sk-item::before, #sk-container-id-1 div.sk-parallel-item::before {content: \"\";position: absolute;border-left: 1px solid gray;box-sizing: border-box;top: 0;bottom: 0;left: 50%;z-index: -1;}#sk-container-id-1 div.sk-parallel-item {display: flex;flex-direction: column;z-index: 1;position: relative;background-color: white;}#sk-container-id-1 div.sk-parallel-item:first-child::after {align-self: flex-end;width: 50%;}#sk-container-id-1 div.sk-parallel-item:last-child::after {align-self: flex-start;width: 50%;}#sk-container-id-1 div.sk-parallel-item:only-child::after {width: 0;}#sk-container-id-1 div.sk-dashed-wrapped {border: 1px dashed gray;margin: 0 0.4em 0.5em 0.4em;box-sizing: border-box;padding-bottom: 0.4em;background-color: white;}#sk-container-id-1 div.sk-label label {font-family: monospace;font-weight: bold;display: inline-block;line-height: 1.2em;}#sk-container-id-1 div.sk-label-container {text-align: center;}#sk-container-id-1 div.sk-container {/* jupyter's `normalize.less` sets `[hidden] { display: none; }` but bootstrap.min.css set `[hidden] { display: none !important; }` so we also need the `!important` here to be able to override the default hidden behavior on the sphinx rendered scikit-learn.org. See: https://github.com/scikit-learn/scikit-learn/issues/21755 */display: inline-block !important;position: relative;}#sk-container-id-1 div.sk-text-repr-fallback {display: none;}</style><div id=\"sk-container-id-1\" class=\"sk-top-container\"><div class=\"sk-text-repr-fallback\"><pre>LinearRegression()</pre><b>In a Jupyter environment, please rerun this cell to show the HTML representation or trust the notebook. <br />On GitHub, the HTML representation is unable to render, please try loading this page with nbviewer.org.</b></div><div class=\"sk-container\" hidden><div class=\"sk-item\"><div class=\"sk-estimator sk-toggleable\"><input class=\"sk-toggleable__control sk-hidden--visually\" id=\"sk-estimator-id-1\" type=\"checkbox\" checked><label for=\"sk-estimator-id-1\" class=\"sk-toggleable__label sk-toggleable__label-arrow\">LinearRegression</label><div class=\"sk-toggleable__content\"><pre>LinearRegression()</pre></div></div></div></div></div>"
            ]
          },
          "metadata": {},
          "execution_count": 52
        }
      ]
    },
    {
      "cell_type": "markdown",
      "source": [
        "Evaluete на моделот"
      ],
      "metadata": {
        "id": "xGRHddMgMWrr"
      }
    },
    {
      "cell_type": "code",
      "source": [
        "y_pred = model.predict(X_test)\n",
        "\n",
        "from sklearn.metrics import r2_score\n",
        "\n",
        "# Evaluate the model using R2 score\n",
        "r2 = r2_score(y_test, y_pred)\n",
        "r2"
      ],
      "metadata": {
        "colab": {
          "base_uri": "https://localhost:8080/"
        },
        "id": "tRTNB1NSMU0i",
        "outputId": "5a9fc3af-a435-4aaa-ba06-1b75c0eca52b"
      },
      "execution_count": null,
      "outputs": [
        {
          "output_type": "execute_result",
          "data": {
            "text/plain": [
              "0.6167185205565953"
            ]
          },
          "metadata": {},
          "execution_count": 66
        }
      ]
    },
    {
      "cell_type": "markdown",
      "source": [
        "Plot bar за Actual vs Predicted Values"
      ],
      "metadata": {
        "id": "xki7kviQMdGh"
      }
    },
    {
      "cell_type": "code",
      "source": [
        "plt.scatter(y_test.values.flatten(), y_pred.flatten())\n",
        "plt.xlabel(\"Actual Trade Values\")\n",
        "plt.ylabel(\"Predicted Trade Values\")\n",
        "plt.title(\"Actual vs Predicted Trade Values\")\n",
        "plt.show()"
      ],
      "metadata": {
        "colab": {
          "base_uri": "https://localhost:8080/",
          "height": 472
        },
        "id": "THNQA80gMba6",
        "outputId": "3069454b-2a0b-4175-ce4e-1401c4604f2d"
      },
      "execution_count": null,
      "outputs": [
        {
          "output_type": "display_data",
          "data": {
            "text/plain": [
              "<Figure size 640x480 with 1 Axes>"
            ],
            "image/png": "[encoded data removed]"
          },
          "metadata": {}
        }
      ]
    }
  ]
}